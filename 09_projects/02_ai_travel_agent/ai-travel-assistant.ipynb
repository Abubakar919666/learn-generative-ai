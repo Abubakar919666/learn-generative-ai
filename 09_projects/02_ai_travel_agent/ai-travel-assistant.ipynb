{
 "cells": [
  {
   "cell_type": "code",
   "execution_count": null,
   "metadata": {},
   "outputs": [],
   "source": [
    "%pip install plotly\n",
    "%pip install --upgrade nbformat"
   ]
  },
  {
   "cell_type": "markdown",
   "metadata": {},
   "source": [
    "## Building an AI Travel Assistant For Global Explorers"
   ]
  },
  {
   "cell_type": "markdown",
   "metadata": {},
   "source": [
    "Watch Dev Day Demo 33:33\n",
    "https://www.youtube.com/watch?v=U9mJuUkhUzk\n",
    "\n",
    "Get MapBox Access Token:\n",
    "https://www.mapbox.com/"
   ]
  },
  {
   "cell_type": "code",
   "execution_count": 292,
   "metadata": {},
   "outputs": [],
   "source": [
    "from openai import OpenAI\n",
    "from dotenv import load_dotenv, find_dotenv\n",
    "import os\n",
    "\n",
    "_: bool = load_dotenv(find_dotenv())  # read local .env file\n",
    "\n",
    "client: OpenAI = OpenAI()\n",
    "\n",
    "MAPBOX_ACCESS_TOKEN = os.environ.get(\"MAPBOX_TOKEN\")"
   ]
  },
  {
   "cell_type": "markdown",
   "metadata": {},
   "source": [
    "### Seed Configuration For Assistant"
   ]
  },
  {
   "cell_type": "code",
   "execution_count": 293,
   "metadata": {},
   "outputs": [],
   "source": [
    "from typing import Union\n",
    "\n",
    "# Because dictionaries are mutable, any changes you make to a dictionary are done in place.\n",
    "# Here we are them to store the state of map. It allows to retrieve the state and easily update it using function calling.\n",
    "\n",
    "# When you use the global keyword in a function, it allows you to access and modify variables that are defined in the global scope from within the function. \n",
    "\n",
    "map_state: dict[str, Union[float, str]] = {\n",
    "            \"latitude\": 39.949610,\n",
    "            \"longitude\": -75.150282,\n",
    "            \"zoom\": 16,}\n",
    "\n",
    "markers_state: dict[str, list[Union[float, str]]] = {\n",
    "    \"latitudes\": [],\n",
    "    \"longitudes\": [],\n",
    "    \"labels\": [],\n",
    "}\n",
    "\n",
    "# Define Functions For Our Assistant - Use Try Catch Blocks For Error Handling\n",
    "\n",
    "# Function 1 - Control Map Location\n",
    "def update_map(longitude: float, latitude: float, zoom: int) -> str:\n",
    "    \"\"\"Update map to center on a particular location.\"\"\"\n",
    "\n",
    "    global map_state  # Refer to the global map_state\n",
    "\n",
    "    try: \n",
    "        if not (-90 <= latitude <= 90) or not (-180 <= longitude <= 180) or not (isinstance(zoom, int) and zoom > 0):\n",
    "            raise ValueError(\"\"\"Latitude must be between -90 and 90,\n",
    "                             Longitude must be between -180 and 180,\n",
    "                             and Zoom must be a positive integer.\"\"\")\n",
    "\n",
    "        # Update the global map_state\n",
    "        map_state['latitude'] = latitude\n",
    "        map_state['longitude'] = longitude\n",
    "        map_state['zoom'] = zoom\n",
    "\n",
    "        return \"Map Updated.\"\n",
    "    except (ValueError, TypeError) as e:\n",
    "        raise ValueError(f\"Error in update_map function: {e}\")\n",
    "\n",
    "# Function 2 - Add markers to map\n",
    "def add_markers(latitudes: list, longitudes: list, labels: list) -> str:\n",
    "    \"\"\"OpenAI tool to update markers in-app\"\"\"\n",
    "\n",
    "    global markers_state  # Refer to the global map_state\n",
    "\n",
    "    try: \n",
    "         # Validate inputs\n",
    "        if len(latitudes) != len(longitudes) or len(latitudes) != len(labels):\n",
    "            raise ValueError(\"Number of latitudes, longitudes, and labels must be the same.\")\n",
    "\n",
    "        markers_state[\"latitudes\"] = latitudes\n",
    "        markers_state[\"longitudes\"] = longitudes\n",
    "        markers_state[\"labels\"] = labels\n",
    "        \n",
    "        return \"Markers added successfully.\"\n",
    "    \n",
    "    except (ValueError, TypeError) as e:\n",
    "        raise ValueError(f\"Error in add_markers function: {e}\")\n",
    "\n",
    "\n",
    "available_functions = {\n",
    "    \"update_map\": update_map,\n",
    "    \"add_markers\": add_markers,\n",
    "}\n",
    "\n",
    "SEED_INSTRUCTION: str = \"\"\"You are a reliable travel assistant, here to assist Global Explorers in planning and discovering their next travel \n",
    "                            destination. You specialize in marking locations on the map, providing personalized travel suggestions, and helping \n",
    "                            you reach any destination you have in mind. Wherever possible mark locations on map while making the travelers travel \n",
    "                            plans memorable. In map marker label share the destination names. For any uploaded pdf use \"retrieval\" to analyze them \n",
    "                            from an AI Travel Agent Prespective and Share the Data present in PDF in an organized format \"\"\"\n",
    "\n",
    "\n",
    "travel_agent_tools = [\n",
    "    {\"type\": \"retrieval\"},\n",
    "    {\"type\": \"code_interpreter\"},\n",
    "    {\n",
    "        \"type\": \"function\",\n",
    "        \"function\": {\n",
    "            \"name\": \"update_map\",\n",
    "            \"description\": \"Update map to center on a particular location\",\n",
    "            \"parameters\": {\n",
    "                \"type\": \"object\",\n",
    "                \"properties\": {\n",
    "                    \"longitude\": {\n",
    "                        \"type\": \"number\",\n",
    "                        \"description\": \"Longitude of the location to center the map on\"\n",
    "                    },\n",
    "                    \"latitude\": {\n",
    "                        \"type\": \"number\",\n",
    "                        \"description\": \"Latitude of the location to center the map on\"\n",
    "                    },\n",
    "                    \"zoom\": {\n",
    "                        \"type\": \"integer\",\n",
    "                        \"description\": \"Zoom level of the map\"\n",
    "                    }\n",
    "                },\n",
    "                \"required\": [\"longitude\", \"latitude\", \"zoom\"]\n",
    "            }\n",
    "        }\n",
    "    },\n",
    "    {\n",
    "        \"type\": \"function\",\n",
    "        \"function\":  {\n",
    "            \"name\": \"add_markers\",\n",
    "            \"description\": \"Add list of markers to the map\",\n",
    "            \"parameters\": {\n",
    "                \"type\": \"object\",\n",
    "                \"properties\": {\n",
    "                    \"longitudes\": {\n",
    "                        \"type\": \"array\",\n",
    "                        \"items\": {\n",
    "                            \"type\": \"number\"\n",
    "                        },\n",
    "                        \"description\": \"List of longitude of the location to each marker\"\n",
    "                    },\n",
    "                    \"latitudes\": {\n",
    "                        \"type\": \"array\",\n",
    "                        \"items\": {\n",
    "                            \"type\": \"number\"\n",
    "                        },\n",
    "                        \"description\": \"List of latitude of the location to each marker\"\n",
    "                    },\n",
    "                    \"labels\": {\n",
    "                        \"type\": \"array\",\n",
    "                        \"items\": {\n",
    "                            \"type\": \"string\"\n",
    "                        },\n",
    "                        \"description\": \"List of text to display on the location of each marker\"\n",
    "                    }\n",
    "                },\n",
    "                \"required\": [\"longitudes\", \"latitudes\", \"labels\"]\n",
    "            }\n",
    "        }\n",
    "    },\n",
    "\n",
    "]"
   ]
  },
  {
   "cell_type": "markdown",
   "metadata": {},
   "source": [
    "#### Function To Plot and Update the Map"
   ]
  },
  {
   "cell_type": "code",
   "execution_count": 294,
   "metadata": {},
   "outputs": [],
   "source": [
    "import plotly.graph_objects as go\n",
    "\n",
    "# Function to create and display the map\n",
    "def create_map(map_state: dict[str, Union[float, str]], markers_state: dict[str, list[Union[float, str]]]) -> None:\n",
    "    \n",
    "    figure = go.Figure(go.Scattermapbox(mode=\"markers\"))\n",
    "    \n",
    "    figure.add_trace(\n",
    "        go.Scattermapbox(\n",
    "            mode=\"markers\",\n",
    "            marker=dict(color='red', size=14),\n",
    "            lat=markers_state[\"latitudes\"],\n",
    "            lon=markers_state[\"longitudes\"],\n",
    "            text=markers_state[\"labels\"]\n",
    "        )\n",
    "    )\n",
    "    \n",
    "    figure.update_layout(\n",
    "        mapbox=dict(\n",
    "            # style=\"open-street-map\",\n",
    "            accesstoken=MAPBOX_ACCESS_TOKEN, # If you don't have MAPBOX token, replace with style=\"open-street-map\".\n",
    "            center=go.layout.mapbox.Center(\n",
    "                lat=map_state[\"latitude\"],\n",
    "                lon=map_state[\"longitude\"]\n",
    "            ),\n",
    "            zoom=map_state[\"zoom\"]\n",
    "        ),\n",
    "        margin=dict(l=0, r=0, t=0, b=0)\n",
    "    )\n",
    "    figure.show()"
   ]
  },
  {
   "cell_type": "markdown",
   "metadata": {},
   "source": [
    "### Create an Assistant"
   ]
  },
  {
   "cell_type": "code",
   "execution_count": 295,
   "metadata": {},
   "outputs": [],
   "source": [
    "from openai.types.beta.assistant import Assistant\n",
    "\n",
    "travel_agent: Assistant = client.beta.assistants.create(\n",
    "    model=\"gpt-4-1106-preview\",\n",
    "    name=\"AI Travel Agent\",\n",
    "    instructions=SEED_INSTRUCTION,\n",
    "    tools=travel_agent_tools\n",
    ")\n",
    "\n",
    "# Create an Assistant Once and Store it's ID in the env variables. Next Here retrive the assistant and use it. You can modify it. "
   ]
  },
  {
   "cell_type": "markdown",
   "metadata": {},
   "source": [
    "### Create a Thread"
   ]
  },
  {
   "cell_type": "code",
   "execution_count": 296,
   "metadata": {},
   "outputs": [],
   "source": [
    "from openai.types.beta.thread import Thread\n",
    "\n",
    "thread: Thread = client.beta.threads.create()"
   ]
  },
  {
   "cell_type": "markdown",
   "metadata": {},
   "source": [
    "### Manage File Operations For Retrival Efficiently"
   ]
  },
  {
   "cell_type": "code",
   "execution_count": 297,
   "metadata": {},
   "outputs": [],
   "source": [
    "from openai.types.file_deleted import FileDeleted\n",
    "from typing import Literal\n",
    "from openai.types.file_list_params import FileListParams\n",
    "from openai.types.file_object import FileObject\n",
    "\n",
    "# For the retrival we will upload files and in message we will pass the file id.\n",
    "# Remember to destroy the file afterwards\n",
    "\n",
    "# For Cost Optimization Create a Thread with Attached File Once and then Use it for All Operations/Questions Related to That File\n",
    "\n",
    "class TravelFiles():\n",
    "    def __init__(self):\n",
    "        self.client = OpenAI()\n",
    "\n",
    "    def list_files(self, purpose: str = 'assistants') -> FileListParams:\n",
    "        \"\"\"Retrieve a list of files with the specified purpose.\"\"\"\n",
    "        files = client.files.list(purpose=purpose)\n",
    "        file_list = files.model_dump()\n",
    "        return file_list['data'] if 'data' in file_list else []\n",
    "\n",
    "    def upload_file(self, file_path: str, purpose: Literal['fine-tune', 'assistants'] = 'assistants') -> str:\n",
    "        \"\"\"Create or find a file in OpenAI. \n",
    "        https://platform.openai.com/docs/api-reference/files/list\n",
    "        Returns File ID. \"\"\"\n",
    "\n",
    "        with open(file_path, \"rb\") as file:\n",
    "            file_obj: FileObject = self.client.files.create(file=file, purpose=purpose)\n",
    "            self.file_id: str = file_obj.id\n",
    "            return file_obj.id\n",
    "            \n",
    "    def deleteFile(self, file_id: str) -> dict[str, FileDeleted | str]:\n",
    "        \"\"\"Delete an Uploaded File\n",
    "        args: Pass file Id\n",
    "        returns feleted file id, object and deleted (bool)\"\"\"\n",
    "\n",
    "        response: dict[str, FileDeleted | str] = {}\n",
    "        try:\n",
    "            response['data']: FileDeleted = self.client.files.delete(file_id)\n",
    "            response['status']: str = 'success'\n",
    "            print(\"Deleted File\", response['data'])\n",
    "\n",
    "        except Exception as e:\n",
    "            # Handle other potential exceptions\n",
    "            response['status'] = 'error'\n",
    "            response['error'] = str(e)\n",
    "\n",
    "        return response"
   ]
  },
  {
   "cell_type": "markdown",
   "metadata": {},
   "source": [
    "### Class to Manage all Assistant Operations Efficiently"
   ]
  },
  {
   "cell_type": "code",
   "execution_count": 298,
   "metadata": {},
   "outputs": [],
   "source": [
    "from openai.types.beta.threads import Run\n",
    "from openai.types.beta.threads import ThreadMessage\n",
    "import time\n",
    "import json\n",
    "\n",
    "class TravelAIChat():\n",
    "    def __init__(self, assistant: Assistant, thread: Thread):\n",
    "        self.client = OpenAI()\n",
    "        self.assistant: Assistant | None = assistant\n",
    "        self.thread: Thread | None = thread\n",
    "\n",
    "    def modifyAssistant(self, new_instructions: str, tools: list, file_obj: list[str]) -> Assistant:\n",
    "        \"\"\"Update an existing assistant.\"\"\"\n",
    "        print(\"Updating edisting assistant...\")\n",
    "        self.assistant = self.client.beta.assistants.update(\n",
    "            instructions=new_instructions,\n",
    "            tools=tools,\n",
    "            model=self.model,\n",
    "            file_ids=file_obj\n",
    "        )\n",
    "        return self.assistant\n",
    "\n",
    "    def add_message_to_thread(self, role: Literal['user'], content: str, file_obj_ids: list[str] = '') -> None:\n",
    "        if self.thread is None:\n",
    "            raise ValueError(\"Thread is not set!\")\n",
    "\n",
    "        self.client.beta.threads.messages.create(\n",
    "            thread_id=self.thread.id,\n",
    "            role=role,\n",
    "            content=content,\n",
    "            file_ids=file_obj_ids\n",
    "        )\n",
    "\n",
    "    def run_assistant(self) -> Run:\n",
    "\n",
    "        if self.assistant is None:\n",
    "            raise ValueError(\n",
    "                \"Assistant is not set. Cannot run assistant without an assistant.\")\n",
    "\n",
    "        if self.thread is None:\n",
    "            raise ValueError(\n",
    "                \"Thread is not set!\")\n",
    "\n",
    "        self.run: Run = self.client.beta.threads.runs.create(\n",
    "            thread_id=self.thread.id,\n",
    "            assistant_id=self.assistant.id,\n",
    "        )\n",
    "        return self.run\n",
    "\n",
    "    # Polling \n",
    "    def wait_for_completion(self, run: Run) -> list[ThreadMessage]:\n",
    "\n",
    "            if run is None:\n",
    "                raise ValueError(\"Run is not set!\")\n",
    "\n",
    "            # while run.status in [\"in_progress\", \"queued\"]:\n",
    "            while run.status not in [\"completed\", \"failed\"]:\n",
    "                run_status = client.beta.threads.runs.retrieve(\n",
    "                    thread_id=self.thread.id,\n",
    "                    run_id=run.id\n",
    "                )\n",
    "                time.sleep(3)  # Wait for 3 seconds before checking again\n",
    "                print(f\"Status: {run_status.status}\")\n",
    "\n",
    "                if run_status.status == 'completed':\n",
    "                    print(\"Run completed.\")\n",
    "                    return client.beta.threads.messages.list(thread_id=thread.id)\n",
    "                    break\n",
    "                elif run_status.status == 'requires_action' and run_status.required_action is not None:\n",
    "                    print(f\"Function Calling ...\")\n",
    "                    self.call_required_functions(\n",
    "                        toolCalls=run_status.required_action.submit_tool_outputs.model_dump(),\n",
    "                        thread_id=thread.id,\n",
    "                        run_id=run.id\n",
    "                        )\n",
    "                elif run.status == \"failed\":\n",
    "                    print(\"Run failed.\")\n",
    "                    break\n",
    "                else:\n",
    "                    print(f\"Waiting for the Assistant to process...: {run.status}\")\n",
    "\n",
    "    # Function to call the required functions\n",
    "    def call_required_functions(self, toolCalls, thread_id: str, run_id: str):\n",
    "            \n",
    "            tool_outputs = []\n",
    "\n",
    "            # for toolcall in toolCalls:\n",
    "            for toolcall in toolCalls[\"tool_calls\"]:\n",
    "                function_name = toolcall['function']['name']\n",
    "                function_args = json.loads(toolcall['function']['arguments'])\n",
    "                \n",
    "                if function_name in available_functions:\n",
    "\n",
    "                    # Displaying the message with values\n",
    "                    print(f\"calling function {function_name} with args:\")\n",
    "                    for key, value in function_args.items():\n",
    "                        print(f\"{key}: {value}\")\n",
    "\n",
    "                    if function_name in available_functions:\n",
    "                        function_to_call = available_functions[function_name]\n",
    "                        print(\"function_to_call >>>>>\" ,function_to_call)\n",
    "                        output = function_to_call(**function_args)\n",
    "\n",
    "                        print(\"Output Status\", output)\n",
    "                        \n",
    "                        tool_outputs.append({\n",
    "                            \"tool_call_id\": toolcall['id'],\n",
    "                            \"output\": output,\n",
    "                        })\n",
    "\n",
    "                else:\n",
    "                    raise ValueError(f\"Unknown function: {function_name}\")               \n",
    "    \n",
    "            print('submit_tool_outputs >>>>>' ,tool_outputs,) \n",
    "            # Submit tool outputs and update the run\n",
    "            client.beta.threads.runs.submit_tool_outputs(\n",
    "                thread_id=thread_id,\n",
    "                run_id=run_id,\n",
    "                tool_outputs=tool_outputs\n",
    "                )"
   ]
  },
  {
   "cell_type": "markdown",
   "metadata": {},
   "source": [
    "### Function To Get User Prompt and Perform Assistant Operations"
   ]
  },
  {
   "cell_type": "code",
   "execution_count": 299,
   "metadata": {},
   "outputs": [],
   "source": [
    "ai_travel_maanger: TravelAIChat = TravelAIChat(assistant=travel_agent, thread=thread)\n",
    "\n",
    "def call_travel_assistant(prompt: str ,file_ids: list[str] = []) -> list[ThreadMessage]:\n",
    "\n",
    "    # Add a message to the thread\n",
    "    ai_travel_maanger.add_message_to_thread(\n",
    "        role=\"user\",\n",
    "        content=prompt,\n",
    "        file_obj_ids=file_ids\n",
    "    )\n",
    "\n",
    "    # Run the assistant\n",
    "    run: Run = ai_travel_maanger.run_assistant()\n",
    "\n",
    "    # Wait for the assistant to complete\n",
    "    messages: list[ThreadMessage] = ai_travel_maanger.wait_for_completion(run)\n",
    "\n",
    "    return messages\n"
   ]
  },
  {
   "cell_type": "markdown",
   "metadata": {},
   "source": [
    "### Case 1: Annotate Map Using Parallel Function Calling"
   ]
  },
  {
   "cell_type": "code",
   "execution_count": 300,
   "metadata": {},
   "outputs": [
    {
     "name": "stdout",
     "output_type": "stream",
     "text": [
      "Status: in_progress\n",
      "Waiting for the Assistant to process...: queued\n",
      "Status: in_progress\n",
      "Waiting for the Assistant to process...: queued\n",
      "Status: requires_action\n",
      "Function Calling ...\n",
      "calling function add_markers with args:\n",
      "longitudes: [54.3705, 55.2708]\n",
      "latitudes: [24.4824, 25.2048]\n",
      "labels: ['Sheikh Zayed Grand Mosque, Abu Dhabi', 'Burj Khalifa, Dubai']\n",
      "function_to_call >>>>> <function add_markers at 0x11bdd6160>\n",
      "Output Status Markers added successfully.\n",
      "calling function update_map with args:\n",
      "longitude: 54.8227\n",
      "latitude: 24.8436\n",
      "zoom: 8\n",
      "function_to_call >>>>> <function update_map at 0x11bdd60c0>\n",
      "Output Status Map Updated.\n",
      "submit_tool_outputs >>>>> [{'tool_call_id': 'call_WC7L3u9YFh9znFVq8GNwobfR', 'output': 'Markers added successfully.'}, {'tool_call_id': 'call_XcYD0ph3y6zxB9b2Xiu9Pzdm', 'output': 'Map Updated.'}]\n",
      "Status: in_progress\n",
      "Waiting for the Assistant to process...: queued\n",
      "Status: in_progress\n",
      "Waiting for the Assistant to process...: queued\n",
      "Status: in_progress\n",
      "Waiting for the Assistant to process...: queued\n",
      "Status: completed\n",
      "Run completed.\n"
     ]
    }
   ],
   "source": [
    "chat_res = call_travel_assistant(prompt=\"Share 2 travel destinations in UAR next to each other and show them on map?\")"
   ]
  },
  {
   "cell_type": "code",
   "execution_count": 301,
   "metadata": {},
   "outputs": [
    {
     "name": "stdout",
     "output_type": "stream",
     "text": [
      "\n",
      " \n",
      "\n",
      "assistant :\n",
      "I have two travel destinations for you in the United Arab Emirates that are close to each other:\n",
      "\n",
      "1. **Sheikh Zayed Grand Mosque** in Abu Dhabi: A remarkable architectural work that is also one of the largest mosques in the world, famous for its intricate Islamic art and carvings as well as majestic structure.\n",
      "\n",
      "2. **Burj Khalifa** in Dubai: The tallest building in the world, offering breathtaking views of Dubai from its observation decks and a testament to modern engineering and design.\n",
      "\n",
      "Both have been marked on the map for you:\n",
      "\n",
      "- Sheikh Zayed Grand Mosque, Abu Dhabi is marked as (A).\n",
      "- Burj Khalifa, Dubai is marked as (B).\n",
      "\n",
      "The map has been updated to center between these two landmarks for your convenience.\n",
      "\n",
      "user :\n",
      "Share 2 travel destinations in UAR next to each other and show them on map?\n",
      "\n"
     ]
    },
    {
     "data": {
      "application/vnd.plotly.v1+json": {
       "config": {
        "plotlyServerURL": "https://plot.ly"
       },
       "data": [
        {
         "mode": "markers",
         "type": "scattermapbox"
        },
        {
         "lat": [
          24.4824,
          25.2048
         ],
         "lon": [
          54.3705,
          55.2708
         ],
         "marker": {
          "color": "red",
          "size": 14
         },
         "mode": "markers",
         "text": [
          "Sheikh Zayed Grand Mosque, Abu Dhabi",
          "Burj Khalifa, Dubai"
         ],
         "type": "scattermapbox"
        }
       ],
       "layout": {
        "mapbox": {
         "accesstoken": "pk.eyJ1IjoibWp1bmFpZCIsImEiOiJjbHBtYzl0d3YwYmQyMm1vYmx6eHpmODFnIn0.3zfUoHz8X4Z0C7LSkU36tA",
         "center": {
          "lat": 24.8436,
          "lon": 54.8227
         },
         "zoom": 8
        },
        "margin": {
         "b": 0,
         "l": 0,
         "r": 0,
         "t": 0
        },
        "template": {
         "data": {
          "bar": [
           {
            "error_x": {
             "color": "#2a3f5f"
            },
            "error_y": {
             "color": "#2a3f5f"
            },
            "marker": {
             "line": {
              "color": "#E5ECF6",
              "width": 0.5
             },
             "pattern": {
              "fillmode": "overlay",
              "size": 10,
              "solidity": 0.2
             }
            },
            "type": "bar"
           }
          ],
          "barpolar": [
           {
            "marker": {
             "line": {
              "color": "#E5ECF6",
              "width": 0.5
             },
             "pattern": {
              "fillmode": "overlay",
              "size": 10,
              "solidity": 0.2
             }
            },
            "type": "barpolar"
           }
          ],
          "carpet": [
           {
            "aaxis": {
             "endlinecolor": "#2a3f5f",
             "gridcolor": "white",
             "linecolor": "white",
             "minorgridcolor": "white",
             "startlinecolor": "#2a3f5f"
            },
            "baxis": {
             "endlinecolor": "#2a3f5f",
             "gridcolor": "white",
             "linecolor": "white",
             "minorgridcolor": "white",
             "startlinecolor": "#2a3f5f"
            },
            "type": "carpet"
           }
          ],
          "choropleth": [
           {
            "colorbar": {
             "outlinewidth": 0,
             "ticks": ""
            },
            "type": "choropleth"
           }
          ],
          "contour": [
           {
            "colorbar": {
             "outlinewidth": 0,
             "ticks": ""
            },
            "colorscale": [
             [
              0,
              "#0d0887"
             ],
             [
              0.1111111111111111,
              "#46039f"
             ],
             [
              0.2222222222222222,
              "#7201a8"
             ],
             [
              0.3333333333333333,
              "#9c179e"
             ],
             [
              0.4444444444444444,
              "#bd3786"
             ],
             [
              0.5555555555555556,
              "#d8576b"
             ],
             [
              0.6666666666666666,
              "#ed7953"
             ],
             [
              0.7777777777777778,
              "#fb9f3a"
             ],
             [
              0.8888888888888888,
              "#fdca26"
             ],
             [
              1,
              "#f0f921"
             ]
            ],
            "type": "contour"
           }
          ],
          "contourcarpet": [
           {
            "colorbar": {
             "outlinewidth": 0,
             "ticks": ""
            },
            "type": "contourcarpet"
           }
          ],
          "heatmap": [
           {
            "colorbar": {
             "outlinewidth": 0,
             "ticks": ""
            },
            "colorscale": [
             [
              0,
              "#0d0887"
             ],
             [
              0.1111111111111111,
              "#46039f"
             ],
             [
              0.2222222222222222,
              "#7201a8"
             ],
             [
              0.3333333333333333,
              "#9c179e"
             ],
             [
              0.4444444444444444,
              "#bd3786"
             ],
             [
              0.5555555555555556,
              "#d8576b"
             ],
             [
              0.6666666666666666,
              "#ed7953"
             ],
             [
              0.7777777777777778,
              "#fb9f3a"
             ],
             [
              0.8888888888888888,
              "#fdca26"
             ],
             [
              1,
              "#f0f921"
             ]
            ],
            "type": "heatmap"
           }
          ],
          "heatmapgl": [
           {
            "colorbar": {
             "outlinewidth": 0,
             "ticks": ""
            },
            "colorscale": [
             [
              0,
              "#0d0887"
             ],
             [
              0.1111111111111111,
              "#46039f"
             ],
             [
              0.2222222222222222,
              "#7201a8"
             ],
             [
              0.3333333333333333,
              "#9c179e"
             ],
             [
              0.4444444444444444,
              "#bd3786"
             ],
             [
              0.5555555555555556,
              "#d8576b"
             ],
             [
              0.6666666666666666,
              "#ed7953"
             ],
             [
              0.7777777777777778,
              "#fb9f3a"
             ],
             [
              0.8888888888888888,
              "#fdca26"
             ],
             [
              1,
              "#f0f921"
             ]
            ],
            "type": "heatmapgl"
           }
          ],
          "histogram": [
           {
            "marker": {
             "pattern": {
              "fillmode": "overlay",
              "size": 10,
              "solidity": 0.2
             }
            },
            "type": "histogram"
           }
          ],
          "histogram2d": [
           {
            "colorbar": {
             "outlinewidth": 0,
             "ticks": ""
            },
            "colorscale": [
             [
              0,
              "#0d0887"
             ],
             [
              0.1111111111111111,
              "#46039f"
             ],
             [
              0.2222222222222222,
              "#7201a8"
             ],
             [
              0.3333333333333333,
              "#9c179e"
             ],
             [
              0.4444444444444444,
              "#bd3786"
             ],
             [
              0.5555555555555556,
              "#d8576b"
             ],
             [
              0.6666666666666666,
              "#ed7953"
             ],
             [
              0.7777777777777778,
              "#fb9f3a"
             ],
             [
              0.8888888888888888,
              "#fdca26"
             ],
             [
              1,
              "#f0f921"
             ]
            ],
            "type": "histogram2d"
           }
          ],
          "histogram2dcontour": [
           {
            "colorbar": {
             "outlinewidth": 0,
             "ticks": ""
            },
            "colorscale": [
             [
              0,
              "#0d0887"
             ],
             [
              0.1111111111111111,
              "#46039f"
             ],
             [
              0.2222222222222222,
              "#7201a8"
             ],
             [
              0.3333333333333333,
              "#9c179e"
             ],
             [
              0.4444444444444444,
              "#bd3786"
             ],
             [
              0.5555555555555556,
              "#d8576b"
             ],
             [
              0.6666666666666666,
              "#ed7953"
             ],
             [
              0.7777777777777778,
              "#fb9f3a"
             ],
             [
              0.8888888888888888,
              "#fdca26"
             ],
             [
              1,
              "#f0f921"
             ]
            ],
            "type": "histogram2dcontour"
           }
          ],
          "mesh3d": [
           {
            "colorbar": {
             "outlinewidth": 0,
             "ticks": ""
            },
            "type": "mesh3d"
           }
          ],
          "parcoords": [
           {
            "line": {
             "colorbar": {
              "outlinewidth": 0,
              "ticks": ""
             }
            },
            "type": "parcoords"
           }
          ],
          "pie": [
           {
            "automargin": true,
            "type": "pie"
           }
          ],
          "scatter": [
           {
            "fillpattern": {
             "fillmode": "overlay",
             "size": 10,
             "solidity": 0.2
            },
            "type": "scatter"
           }
          ],
          "scatter3d": [
           {
            "line": {
             "colorbar": {
              "outlinewidth": 0,
              "ticks": ""
             }
            },
            "marker": {
             "colorbar": {
              "outlinewidth": 0,
              "ticks": ""
             }
            },
            "type": "scatter3d"
           }
          ],
          "scattercarpet": [
           {
            "marker": {
             "colorbar": {
              "outlinewidth": 0,
              "ticks": ""
             }
            },
            "type": "scattercarpet"
           }
          ],
          "scattergeo": [
           {
            "marker": {
             "colorbar": {
              "outlinewidth": 0,
              "ticks": ""
             }
            },
            "type": "scattergeo"
           }
          ],
          "scattergl": [
           {
            "marker": {
             "colorbar": {
              "outlinewidth": 0,
              "ticks": ""
             }
            },
            "type": "scattergl"
           }
          ],
          "scattermapbox": [
           {
            "marker": {
             "colorbar": {
              "outlinewidth": 0,
              "ticks": ""
             }
            },
            "type": "scattermapbox"
           }
          ],
          "scatterpolar": [
           {
            "marker": {
             "colorbar": {
              "outlinewidth": 0,
              "ticks": ""
             }
            },
            "type": "scatterpolar"
           }
          ],
          "scatterpolargl": [
           {
            "marker": {
             "colorbar": {
              "outlinewidth": 0,
              "ticks": ""
             }
            },
            "type": "scatterpolargl"
           }
          ],
          "scatterternary": [
           {
            "marker": {
             "colorbar": {
              "outlinewidth": 0,
              "ticks": ""
             }
            },
            "type": "scatterternary"
           }
          ],
          "surface": [
           {
            "colorbar": {
             "outlinewidth": 0,
             "ticks": ""
            },
            "colorscale": [
             [
              0,
              "#0d0887"
             ],
             [
              0.1111111111111111,
              "#46039f"
             ],
             [
              0.2222222222222222,
              "#7201a8"
             ],
             [
              0.3333333333333333,
              "#9c179e"
             ],
             [
              0.4444444444444444,
              "#bd3786"
             ],
             [
              0.5555555555555556,
              "#d8576b"
             ],
             [
              0.6666666666666666,
              "#ed7953"
             ],
             [
              0.7777777777777778,
              "#fb9f3a"
             ],
             [
              0.8888888888888888,
              "#fdca26"
             ],
             [
              1,
              "#f0f921"
             ]
            ],
            "type": "surface"
           }
          ],
          "table": [
           {
            "cells": {
             "fill": {
              "color": "#EBF0F8"
             },
             "line": {
              "color": "white"
             }
            },
            "header": {
             "fill": {
              "color": "#C8D4E3"
             },
             "line": {
              "color": "white"
             }
            },
            "type": "table"
           }
          ]
         },
         "layout": {
          "annotationdefaults": {
           "arrowcolor": "#2a3f5f",
           "arrowhead": 0,
           "arrowwidth": 1
          },
          "autotypenumbers": "strict",
          "coloraxis": {
           "colorbar": {
            "outlinewidth": 0,
            "ticks": ""
           }
          },
          "colorscale": {
           "diverging": [
            [
             0,
             "#8e0152"
            ],
            [
             0.1,
             "#c51b7d"
            ],
            [
             0.2,
             "#de77ae"
            ],
            [
             0.3,
             "#f1b6da"
            ],
            [
             0.4,
             "#fde0ef"
            ],
            [
             0.5,
             "#f7f7f7"
            ],
            [
             0.6,
             "#e6f5d0"
            ],
            [
             0.7,
             "#b8e186"
            ],
            [
             0.8,
             "#7fbc41"
            ],
            [
             0.9,
             "#4d9221"
            ],
            [
             1,
             "#276419"
            ]
           ],
           "sequential": [
            [
             0,
             "#0d0887"
            ],
            [
             0.1111111111111111,
             "#46039f"
            ],
            [
             0.2222222222222222,
             "#7201a8"
            ],
            [
             0.3333333333333333,
             "#9c179e"
            ],
            [
             0.4444444444444444,
             "#bd3786"
            ],
            [
             0.5555555555555556,
             "#d8576b"
            ],
            [
             0.6666666666666666,
             "#ed7953"
            ],
            [
             0.7777777777777778,
             "#fb9f3a"
            ],
            [
             0.8888888888888888,
             "#fdca26"
            ],
            [
             1,
             "#f0f921"
            ]
           ],
           "sequentialminus": [
            [
             0,
             "#0d0887"
            ],
            [
             0.1111111111111111,
             "#46039f"
            ],
            [
             0.2222222222222222,
             "#7201a8"
            ],
            [
             0.3333333333333333,
             "#9c179e"
            ],
            [
             0.4444444444444444,
             "#bd3786"
            ],
            [
             0.5555555555555556,
             "#d8576b"
            ],
            [
             0.6666666666666666,
             "#ed7953"
            ],
            [
             0.7777777777777778,
             "#fb9f3a"
            ],
            [
             0.8888888888888888,
             "#fdca26"
            ],
            [
             1,
             "#f0f921"
            ]
           ]
          },
          "colorway": [
           "#636efa",
           "#EF553B",
           "#00cc96",
           "#ab63fa",
           "#FFA15A",
           "#19d3f3",
           "#FF6692",
           "#B6E880",
           "#FF97FF",
           "#FECB52"
          ],
          "font": {
           "color": "#2a3f5f"
          },
          "geo": {
           "bgcolor": "white",
           "lakecolor": "white",
           "landcolor": "#E5ECF6",
           "showlakes": true,
           "showland": true,
           "subunitcolor": "white"
          },
          "hoverlabel": {
           "align": "left"
          },
          "hovermode": "closest",
          "mapbox": {
           "style": "light"
          },
          "paper_bgcolor": "white",
          "plot_bgcolor": "#E5ECF6",
          "polar": {
           "angularaxis": {
            "gridcolor": "white",
            "linecolor": "white",
            "ticks": ""
           },
           "bgcolor": "#E5ECF6",
           "radialaxis": {
            "gridcolor": "white",
            "linecolor": "white",
            "ticks": ""
           }
          },
          "scene": {
           "xaxis": {
            "backgroundcolor": "#E5ECF6",
            "gridcolor": "white",
            "gridwidth": 2,
            "linecolor": "white",
            "showbackground": true,
            "ticks": "",
            "zerolinecolor": "white"
           },
           "yaxis": {
            "backgroundcolor": "#E5ECF6",
            "gridcolor": "white",
            "gridwidth": 2,
            "linecolor": "white",
            "showbackground": true,
            "ticks": "",
            "zerolinecolor": "white"
           },
           "zaxis": {
            "backgroundcolor": "#E5ECF6",
            "gridcolor": "white",
            "gridwidth": 2,
            "linecolor": "white",
            "showbackground": true,
            "ticks": "",
            "zerolinecolor": "white"
           }
          },
          "shapedefaults": {
           "line": {
            "color": "#2a3f5f"
           }
          },
          "ternary": {
           "aaxis": {
            "gridcolor": "white",
            "linecolor": "white",
            "ticks": ""
           },
           "baxis": {
            "gridcolor": "white",
            "linecolor": "white",
            "ticks": ""
           },
           "bgcolor": "#E5ECF6",
           "caxis": {
            "gridcolor": "white",
            "linecolor": "white",
            "ticks": ""
           }
          },
          "title": {
           "x": 0.05
          },
          "xaxis": {
           "automargin": true,
           "gridcolor": "white",
           "linecolor": "white",
           "ticks": "",
           "title": {
            "standoff": 15
           },
           "zerolinecolor": "white",
           "zerolinewidth": 2
          },
          "yaxis": {
           "automargin": true,
           "gridcolor": "white",
           "linecolor": "white",
           "ticks": "",
           "title": {
            "standoff": 15
           },
           "zerolinecolor": "white",
           "zerolinewidth": 2
          }
         }
        }
       }
      }
     },
     "metadata": {},
     "output_type": "display_data"
    }
   ],
   "source": [
    "# Show Results\n",
    "\n",
    "print('\\n \\n')\n",
    "\n",
    "for m in (chat_res.data):\n",
    "    (print(m.role,\":\", ), print(m.content[0].text.value))\n",
    "    print()\n",
    "\n",
    "create_map(map_state=map_state, markers_state=markers_state)"
   ]
  },
  {
   "cell_type": "markdown",
   "metadata": {},
   "source": [
    "### Case 2: Retrival & Contepratorde I"
   ]
  },
  {
   "cell_type": "code",
   "execution_count": 302,
   "metadata": {},
   "outputs": [],
   "source": [
    "files_manager: TravelFiles = TravelFiles()\n",
    "\n",
    "# Upload File and get the id\n",
    "\n",
    "upload_file_id: str = files_manager.upload_file(file_path=\"sample_airbnb_receipt.pdf\")"
   ]
  },
  {
   "cell_type": "code",
   "execution_count": 303,
   "metadata": {},
   "outputs": [
    {
     "name": "stdout",
     "output_type": "stream",
     "text": [
      "file-sOaSHFgBTMt00B0YxYHNzhNR\n"
     ]
    }
   ],
   "source": [
    "print(upload_file_id)"
   ]
  },
  {
   "cell_type": "code",
   "execution_count": 304,
   "metadata": {},
   "outputs": [
    {
     "name": "stdout",
     "output_type": "stream",
     "text": [
      "Status: in_progress\n",
      "Waiting for the Assistant to process...: queued\n",
      "Status: in_progress\n",
      "Waiting for the Assistant to process...: queued\n",
      "Status: in_progress\n",
      "Waiting for the Assistant to process...: queued\n",
      "Status: completed\n",
      "Run completed.\n"
     ]
    }
   ],
   "source": [
    "file_chat_res = call_travel_assistant(file_ids=[upload_file_id], prompt=\"We were three friends who stayed at this airbnb. What's my share?\")"
   ]
  },
  {
   "cell_type": "code",
   "execution_count": 305,
   "metadata": {},
   "outputs": [
    {
     "name": "stdout",
     "output_type": "stream",
     "text": [
      "\n",
      " \n",
      "\n",
      "assistant :\n",
      "Based on the Airbnb receipt, the total cost for the stay was $600.00. If you were three friends sharing this cost equally, here's the calculation for each person's share:\n",
      "\n",
      "Total cost: $600.00\n",
      "Number of friends: 3\n",
      "Share per person: $600.00 / 3 = $200.00\n",
      "\n",
      "Your share of the Airbnb cost would be $200.00.\n",
      "\n",
      "user :\n",
      "We were three friends who stayed at this airbnb. What's my share?\n",
      "\n",
      "assistant :\n",
      "I have two travel destinations for you in the United Arab Emirates that are close to each other:\n",
      "\n",
      "1. **Sheikh Zayed Grand Mosque** in Abu Dhabi: A remarkable architectural work that is also one of the largest mosques in the world, famous for its intricate Islamic art and carvings as well as majestic structure.\n",
      "\n",
      "2. **Burj Khalifa** in Dubai: The tallest building in the world, offering breathtaking views of Dubai from its observation decks and a testament to modern engineering and design.\n",
      "\n",
      "Both have been marked on the map for you:\n",
      "\n",
      "- Sheikh Zayed Grand Mosque, Abu Dhabi is marked as (A).\n",
      "- Burj Khalifa, Dubai is marked as (B).\n",
      "\n",
      "The map has been updated to center between these two landmarks for your convenience.\n",
      "\n",
      "user :\n",
      "Share 2 travel destinations in UAR next to each other and show them on map?\n",
      "\n"
     ]
    }
   ],
   "source": [
    "# Here it uses retrival to get info and code inteprator to make calculations\n",
    "\n",
    "print('\\n \\n')\n",
    "\n",
    "for m in (file_chat_res.data):\n",
    "    (print(m.role,\":\", ), print(m.content[0].text.value))\n",
    "    print()"
   ]
  },
  {
   "cell_type": "markdown",
   "metadata": {},
   "source": [
    "### Key Notes:\n",
    "\n",
    "1. The Travel Assistant Smartly decided when to use parallel function calling and When code inteprator and retrival\n",
    "2. In case 1 it used function calling and annotated the map along with travel suggestions\n",
    "3. In case 2 it only uses retrival and code inteprator to caluuculate our share\n"
   ]
  }
 ],
 "metadata": {
  "kernelspec": {
   "display_name": "devday_openai_12",
   "language": "python",
   "name": "python3"
  },
  "language_info": {
   "codemirror_mode": {
    "name": "ipython",
    "version": 3
   },
   "file_extension": ".py",
   "mimetype": "text/x-python",
   "name": "python",
   "nbconvert_exporter": "python",
   "pygments_lexer": "ipython3",
   "version": "3.12.0"
  }
 },
 "nbformat": 4,
 "nbformat_minor": 2
}
