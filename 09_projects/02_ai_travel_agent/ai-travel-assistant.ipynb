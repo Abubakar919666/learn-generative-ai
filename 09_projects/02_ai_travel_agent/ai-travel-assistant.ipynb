{
 "cells": [
  {
   "cell_type": "code",
   "execution_count": null,
   "metadata": {},
   "outputs": [],
   "source": [
    "%pip install plotly\n",
    "%pip install --upgrade nbformat"
   ]
  },
  {
   "cell_type": "markdown",
   "metadata": {},
   "source": [
    "## Building an AI Travel Assistant For Global Explorers"
   ]
  },
  {
   "cell_type": "markdown",
   "metadata": {},
   "source": [
    "Watch Dev Day Demo 33:33\n",
    "https://www.youtube.com/watch?v=U9mJuUkhUzk\n",
    "\n",
    "Get MapBox Access Token:\n",
    "https://www.mapbox.com/"
   ]
  },
  {
   "cell_type": "code",
   "execution_count": 1,
   "metadata": {},
   "outputs": [],
   "source": [
    "from openai import OpenAI\n",
    "from dotenv import load_dotenv, find_dotenv\n",
    "import os\n",
    "\n",
    "_: bool = load_dotenv(find_dotenv())  # read local .env file\n",
    "\n",
    "client: OpenAI = OpenAI()\n",
    "\n",
    "MAPBOX_ACCESS_TOKEN = os.environ.get(\"MAPBOX_TOKEN\")"
   ]
  },
  {
   "cell_type": "markdown",
   "metadata": {},
   "source": [
    "### Step 0-A Seed Configuration For Assistant"
   ]
  },
  {
   "cell_type": "code",
   "execution_count": 2,
   "metadata": {},
   "outputs": [],
   "source": [
    "from typing import Union\n",
    "\n",
    "# Because dictionaries are mutable, any changes you make to a dictionary are done in place.\n",
    "# Here we are them to store the state of map. It allows to retrieve the state and easily update it using function calling.\n",
    "\n",
    "# When you use the global keyword in a function, it allows you to access and modify variables that are defined in the global scope from within the function. \n",
    "\n",
    "map_state: dict[str, Union[float, str]] = {\n",
    "            \"latitude\": 39.949610,\n",
    "            \"longitude\": -75.150282,\n",
    "            \"zoom\": 16,}\n",
    "\n",
    "markers_state: dict[str, list[Union[float, str]]] = {\n",
    "    \"latitudes\": [],\n",
    "    \"longitudes\": [],\n",
    "    \"labels\": [],\n",
    "}\n",
    "\n",
    "# Define Functions For Our Assistant - Use Try Catch Blocks For Error Handling\n",
    "\n",
    "# Function 1 - Control Map Location\n",
    "def update_map(longitude: float, latitude: float, zoom: int) -> str:\n",
    "    \"\"\"Update map to center on a particular location.\"\"\"\n",
    "\n",
    "    global map_state  # Refer to the global map_state\n",
    "\n",
    "    try: \n",
    "        if not (-90 <= latitude <= 90) or not (-180 <= longitude <= 180) or not (isinstance(zoom, int) and zoom > 0):\n",
    "            raise ValueError(\"\"\"Latitude must be between -90 and 90,\n",
    "                             Longitude must be between -180 and 180,\n",
    "                             and Zoom must be a positive integer.\"\"\")\n",
    "\n",
    "        # Update the global map_state\n",
    "        map_state['latitude'] = latitude\n",
    "        map_state['longitude'] = longitude\n",
    "        map_state['zoom'] = zoom\n",
    "\n",
    "        return \"Map Updated.\"\n",
    "    except (ValueError, TypeError) as e:\n",
    "        raise ValueError(f\"Error in update_map function: {e}\")\n",
    "\n",
    "# Function 2 - Add markers to map\n",
    "def add_markers(latitudes: list, longitudes: list, labels: list) -> str:\n",
    "    \"\"\"OpenAI tool to update markers in-app\"\"\"\n",
    "\n",
    "    global markers_state  # Refer to the global map_state\n",
    "\n",
    "    try: \n",
    "         # Validate inputs\n",
    "        if len(latitudes) != len(longitudes) or len(latitudes) != len(labels):\n",
    "            raise ValueError(\"Number of latitudes, longitudes, and labels must be the same.\")\n",
    "\n",
    "        markers_state[\"latitudes\"] = latitudes\n",
    "        markers_state[\"longitudes\"] = longitudes\n",
    "        markers_state[\"labels\"] = labels\n",
    "        \n",
    "        return \"Markers added successfully.\"\n",
    "    \n",
    "    except (ValueError, TypeError) as e:\n",
    "        raise ValueError(f\"Error in add_markers function: {e}\")\n",
    "\n",
    "\n",
    "available_functions = {\n",
    "    \"update_map\": update_map,\n",
    "    \"add_markers\": add_markers,\n",
    "}\n",
    "\n",
    "SEED_INSTRUCTION: str = \"\"\"You are a reliable travel assistant, here to assist Global Explorers in planning and discovering their next travel \n",
    "                            destination. You specialize in marking locations on the map, providing personalized travel suggestions, and helping \n",
    "                            you reach any destination you have in mind. Wherever possible mark locations on map while making the travelers travel \n",
    "                            plans memorable. In map marker label share the destination names \"\"\"\n",
    "\n",
    "\n",
    "travel_agent_tools = [\n",
    "    {\n",
    "        \"type\": \"function\",\n",
    "        \"function\": {\n",
    "            \"name\": \"update_map\",\n",
    "            \"description\": \"Update map to center on a particular location\",\n",
    "            \"parameters\": {\n",
    "                \"type\": \"object\",\n",
    "                \"properties\": {\n",
    "                    \"longitude\": {\n",
    "                        \"type\": \"number\",\n",
    "                        \"description\": \"Longitude of the location to center the map on\"\n",
    "                    },\n",
    "                    \"latitude\": {\n",
    "                        \"type\": \"number\",\n",
    "                        \"description\": \"Latitude of the location to center the map on\"\n",
    "                    },\n",
    "                    \"zoom\": {\n",
    "                        \"type\": \"integer\",\n",
    "                        \"description\": \"Zoom level of the map\"\n",
    "                    }\n",
    "                },\n",
    "                \"required\": [\"longitude\", \"latitude\", \"zoom\"]\n",
    "            }\n",
    "        }\n",
    "    },\n",
    "    {\n",
    "        \"type\": \"function\",\n",
    "        \"function\":  {\n",
    "            \"name\": \"add_markers\",\n",
    "            \"description\": \"Add list of markers to the map\",\n",
    "            \"parameters\": {\n",
    "                \"type\": \"object\",\n",
    "                \"properties\": {\n",
    "                    \"longitudes\": {\n",
    "                        \"type\": \"array\",\n",
    "                        \"items\": {\n",
    "                            \"type\": \"number\"\n",
    "                        },\n",
    "                        \"description\": \"List of longitude of the location to each marker\"\n",
    "                    },\n",
    "                    \"latitudes\": {\n",
    "                        \"type\": \"array\",\n",
    "                        \"items\": {\n",
    "                            \"type\": \"number\"\n",
    "                        },\n",
    "                        \"description\": \"List of latitude of the location to each marker\"\n",
    "                    },\n",
    "                    \"labels\": {\n",
    "                        \"type\": \"array\",\n",
    "                        \"items\": {\n",
    "                            \"type\": \"string\"\n",
    "                        },\n",
    "                        \"description\": \"List of text to display on the location of each marker\"\n",
    "                    }\n",
    "                },\n",
    "                \"required\": [\"longitudes\", \"latitudes\", \"labels\"]\n",
    "            }\n",
    "        }\n",
    "    },\n",
    "\n",
    "]"
   ]
  },
  {
   "cell_type": "markdown",
   "metadata": {},
   "source": [
    "#### Step 0-B Function To Plot and Update the Map"
   ]
  },
  {
   "cell_type": "code",
   "execution_count": 3,
   "metadata": {},
   "outputs": [],
   "source": [
    "import plotly.graph_objects as go\n",
    "\n",
    "# Function to create and display the map\n",
    "def create_map(map_state: dict[str, Union[float, str]], markers_state: dict[str, list[Union[float, str]]]) -> None:\n",
    "    \n",
    "    figure = go.Figure(go.Scattermapbox(mode=\"markers\"))\n",
    "    \n",
    "    figure.add_trace(\n",
    "        go.Scattermapbox(\n",
    "            mode=\"markers\",\n",
    "            marker=dict(color='red', size=14),\n",
    "            lat=markers_state[\"latitudes\"],\n",
    "            lon=markers_state[\"longitudes\"],\n",
    "            text=markers_state[\"labels\"]\n",
    "        )\n",
    "    )\n",
    "    \n",
    "    figure.update_layout(\n",
    "        mapbox=dict(\n",
    "            accesstoken=MAPBOX_ACCESS_TOKEN, # If you don't have MAPBOX token, replace with style=\"open-street-map\".\n",
    "            center=go.layout.mapbox.Center(\n",
    "                lat=map_state[\"latitude\"],\n",
    "                lon=map_state[\"longitude\"]\n",
    "            ),\n",
    "            zoom=map_state[\"zoom\"]\n",
    "        ),\n",
    "        margin=dict(l=0, r=0, t=0, b=0)\n",
    "    )\n",
    "    figure.show()"
   ]
  },
  {
   "cell_type": "markdown",
   "metadata": {},
   "source": [
    "### Step 01 - Create an Assistant"
   ]
  },
  {
   "cell_type": "code",
   "execution_count": 4,
   "metadata": {},
   "outputs": [],
   "source": [
    "from openai.types.beta.assistant import Assistant\n",
    "\n",
    "travel_agent: Assistant = client.beta.assistants.create(\n",
    "    model=\"gpt-3.5-turbo-1106\",\n",
    "    name=\"Travel Agent\",\n",
    "    instructions=SEED_INSTRUCTION,\n",
    "    tools=travel_agent_tools,\n",
    ")"
   ]
  },
  {
   "cell_type": "markdown",
   "metadata": {},
   "source": [
    "### Step 02 - Create a Thread"
   ]
  },
  {
   "cell_type": "code",
   "execution_count": 5,
   "metadata": {},
   "outputs": [],
   "source": [
    "from openai.types.beta.thread import Thread\n",
    "\n",
    "thread: Thread = client.beta.threads.create()"
   ]
  },
  {
   "cell_type": "markdown",
   "metadata": {},
   "source": [
    "### Step 03 - Add Messages to Thread"
   ]
  },
  {
   "cell_type": "code",
   "execution_count": 6,
   "metadata": {},
   "outputs": [],
   "source": [
    "from openai.types.beta.threads import ThreadMessage\n",
    "\n",
    "add_message_to_thread: ThreadMessage = client.beta.threads.messages.create(\n",
    "    thread_id=thread.id,\n",
    "    role=\"user\",\n",
    "    content=\"I will visit Singapore this december. Can you share 2 must visit travel destinations that are next to each other and show them on map?\",\n",
    ")"
   ]
  },
  {
   "cell_type": "markdown",
   "metadata": {},
   "source": [
    "### Step 04 - Create a Run"
   ]
  },
  {
   "cell_type": "code",
   "execution_count": 7,
   "metadata": {},
   "outputs": [],
   "source": [
    "from openai.types.beta.threads import Run\n",
    "\n",
    "run: Run = client.beta.threads.runs.create(\n",
    "    thread_id=thread.id,\n",
    "    assistant_id=travel_agent.id\n",
    ")"
   ]
  },
  {
   "cell_type": "markdown",
   "metadata": {},
   "source": [
    "### Step 05: Polling for Updates and Calling Functions"
   ]
  },
  {
   "cell_type": "code",
   "execution_count": 8,
   "metadata": {},
   "outputs": [],
   "source": [
    "## Helpful Utility Functions to do parallel function calling\n",
    "\n",
    "from openai.types.beta.threads import Run \n",
    "from openai.types.beta.thread import Thread \n",
    "import time\n",
    "import json\n",
    "\n",
    "# Polling \n",
    "def wait_for_completion(run: Run, thread: Thread):\n",
    "\n",
    "        if run is None:\n",
    "            raise ValueError(\"Run is not set!\")\n",
    "\n",
    "        # while run.status in [\"in_progress\", \"queued\"]:\n",
    "        while run.status not in [\"completed\", \"failed\"]:\n",
    "            run_status = client.beta.threads.runs.retrieve(\n",
    "                thread_id=thread.id,\n",
    "                run_id=run.id\n",
    "            )\n",
    "            time.sleep(3)  # Wait for 3 seconds before checking again\n",
    "            print(f\"Status: {run_status.status}\")\n",
    "\n",
    "            if run_status.status == 'completed':\n",
    "                print(\"Run completed.\")\n",
    "                return client.beta.threads.messages.list(thread_id=thread.id)\n",
    "                # break\n",
    "            elif run_status.status == 'requires_action' and run_status.required_action is not None:\n",
    "                print(f\"Function Calling ...\")\n",
    "                call_required_functions(\n",
    "                    toolCalls=run_status.required_action.submit_tool_outputs.model_dump(),\n",
    "                    thread_id=thread.id,\n",
    "                    run_id=run.id\n",
    "                    )\n",
    "            elif run.status == \"failed\":\n",
    "                print(\"Run failed.\")\n",
    "                break\n",
    "            else:\n",
    "                print(f\"Waiting for the Assistant to process...: {run.status}\")\n",
    "\n",
    "# Function to call the required functions\n",
    "def call_required_functions(toolCalls, thread_id: str, run_id: str):\n",
    "        \n",
    "        tool_outputs = []\n",
    "\n",
    "        # for toolcall in toolCalls:\n",
    "        for toolcall in toolCalls[\"tool_calls\"]:\n",
    "            function_name = toolcall['function']['name']\n",
    "            function_args = json.loads(toolcall['function']['arguments'])\n",
    "            \n",
    "            if function_name in available_functions:\n",
    "\n",
    "                # Displaying the message with values\n",
    "                print(f\"calling function {function_name} with args:\")\n",
    "                for key, value in function_args.items():\n",
    "                    print(f\"{key}: {value}\")\n",
    "\n",
    "                if function_name in available_functions:\n",
    "                    function_to_call = available_functions[function_name]\n",
    "                    output = function_to_call(**function_args)\n",
    "\n",
    "                    print(\"Output Status\", output)\n",
    "                    \n",
    "                    tool_outputs.append({\n",
    "                        \"tool_call_id\": toolcall['id'],\n",
    "                        \"output\": output,\n",
    "                    })\n",
    "\n",
    "            else:\n",
    "                raise ValueError(f\"Unknown function: {function_name}\")               \n",
    " \n",
    "        print('submit_tool_outputs >>>>>' ,tool_outputs,) \n",
    "        # Submit tool outputs and update the run\n",
    "        client.beta.threads.runs.submit_tool_outputs(\n",
    "            thread_id=thread_id,\n",
    "            run_id=run_id,\n",
    "            tool_outputs=tool_outputs\n",
    "            )\n"
   ]
  },
  {
   "cell_type": "code",
   "execution_count": 9,
   "metadata": {},
   "outputs": [
    {
     "name": "stdout",
     "output_type": "stream",
     "text": [
      "Status: requires_action\n",
      "Function Calling ...\n",
      "calling function update_map with args:\n",
      "longitude: 103.8535\n",
      "latitude: 1.2833\n",
      "zoom: 12\n",
      "Output Status Map Updated.\n",
      "calling function add_markers with args:\n",
      "longitudes: [103.8198, 103.8223]\n",
      "latitudes: [1.3329, 1.3166]\n",
      "labels: ['Gardens by the Bay', 'Marina Bay Sands']\n",
      "Output Status Markers added successfully.\n",
      "submit_tool_outputs >>>>> [{'tool_call_id': 'call_npFCOOWb8k4CzscyFIdjjd4i', 'output': 'Map Updated.'}, {'tool_call_id': 'call_ELKMcec9PebkGSm71rCLixJ2', 'output': 'Markers added successfully.'}]\n",
      "Status: in_progress\n",
      "Waiting for the Assistant to process...: queued\n",
      "Status: completed\n",
      "Run completed.\n"
     ]
    }
   ],
   "source": [
    "final_response = wait_for_completion(thread=thread, run=run)"
   ]
  },
  {
   "cell_type": "code",
   "execution_count": 10,
   "metadata": {},
   "outputs": [
    {
     "name": "stdout",
     "output_type": "stream",
     "text": [
      "{'latitudes': [1.3329, 1.3166], 'longitudes': [103.8198, 103.8223], 'labels': ['Gardens by the Bay', 'Marina Bay Sands']}\n",
      "{'latitude': 1.2833, 'longitude': 103.8535, 'zoom': 12}\n"
     ]
    }
   ],
   "source": [
    "# verify the map_state and markers_state\n",
    "print(markers_state)\n",
    "print(map_state)"
   ]
  },
  {
   "cell_type": "code",
   "execution_count": 11,
   "metadata": {},
   "outputs": [
    {
     "name": "stdout",
     "output_type": "stream",
     "text": [
      "assistant :\n",
      "Great choice! Two must-visit travel destinations in Singapore that are next to each other are \"Gardens by the Bay\" and \"Marina Bay Sands.\" I've marked these locations on the map for you. Enjoy your trip to Singapore!\n",
      "\n",
      "user :\n",
      "I will visit Singapore this december. Can you share 2 must visit travel destinations that are next to each other and show them on map?\n",
      "\n"
     ]
    },
    {
     "data": {
      "application/vnd.plotly.v1+json": {
       "config": {
        "plotlyServerURL": "https://plot.ly"
       },
       "data": [
        {
         "mode": "markers",
         "type": "scattermapbox"
        },
        {
         "lat": [
          1.3329,
          1.3166
         ],
         "lon": [
          103.8198,
          103.8223
         ],
         "marker": {
          "color": "red",
          "size": 14
         },
         "mode": "markers",
         "text": [
          "Gardens by the Bay",
          "Marina Bay Sands"
         ],
         "type": "scattermapbox"
        }
       ],
       "layout": {
        "mapbox": {
         "accesstoken": "pk.eyJ1IjoibWp1bmFpZCIsImEiOiJjbHBtYzl0d3YwYmQyMm1vYmx6eHpmODFnIn0.3zfUoHz8X4Z0C7LSkU36tA",
         "center": {
          "lat": 1.2833,
          "lon": 103.8535
         },
         "zoom": 12
        },
        "margin": {
         "b": 0,
         "l": 0,
         "r": 0,
         "t": 0
        },
        "template": {
         "data": {
          "bar": [
           {
            "error_x": {
             "color": "#2a3f5f"
            },
            "error_y": {
             "color": "#2a3f5f"
            },
            "marker": {
             "line": {
              "color": "#E5ECF6",
              "width": 0.5
             },
             "pattern": {
              "fillmode": "overlay",
              "size": 10,
              "solidity": 0.2
             }
            },
            "type": "bar"
           }
          ],
          "barpolar": [
           {
            "marker": {
             "line": {
              "color": "#E5ECF6",
              "width": 0.5
             },
             "pattern": {
              "fillmode": "overlay",
              "size": 10,
              "solidity": 0.2
             }
            },
            "type": "barpolar"
           }
          ],
          "carpet": [
           {
            "aaxis": {
             "endlinecolor": "#2a3f5f",
             "gridcolor": "white",
             "linecolor": "white",
             "minorgridcolor": "white",
             "startlinecolor": "#2a3f5f"
            },
            "baxis": {
             "endlinecolor": "#2a3f5f",
             "gridcolor": "white",
             "linecolor": "white",
             "minorgridcolor": "white",
             "startlinecolor": "#2a3f5f"
            },
            "type": "carpet"
           }
          ],
          "choropleth": [
           {
            "colorbar": {
             "outlinewidth": 0,
             "ticks": ""
            },
            "type": "choropleth"
           }
          ],
          "contour": [
           {
            "colorbar": {
             "outlinewidth": 0,
             "ticks": ""
            },
            "colorscale": [
             [
              0,
              "#0d0887"
             ],
             [
              0.1111111111111111,
              "#46039f"
             ],
             [
              0.2222222222222222,
              "#7201a8"
             ],
             [
              0.3333333333333333,
              "#9c179e"
             ],
             [
              0.4444444444444444,
              "#bd3786"
             ],
             [
              0.5555555555555556,
              "#d8576b"
             ],
             [
              0.6666666666666666,
              "#ed7953"
             ],
             [
              0.7777777777777778,
              "#fb9f3a"
             ],
             [
              0.8888888888888888,
              "#fdca26"
             ],
             [
              1,
              "#f0f921"
             ]
            ],
            "type": "contour"
           }
          ],
          "contourcarpet": [
           {
            "colorbar": {
             "outlinewidth": 0,
             "ticks": ""
            },
            "type": "contourcarpet"
           }
          ],
          "heatmap": [
           {
            "colorbar": {
             "outlinewidth": 0,
             "ticks": ""
            },
            "colorscale": [
             [
              0,
              "#0d0887"
             ],
             [
              0.1111111111111111,
              "#46039f"
             ],
             [
              0.2222222222222222,
              "#7201a8"
             ],
             [
              0.3333333333333333,
              "#9c179e"
             ],
             [
              0.4444444444444444,
              "#bd3786"
             ],
             [
              0.5555555555555556,
              "#d8576b"
             ],
             [
              0.6666666666666666,
              "#ed7953"
             ],
             [
              0.7777777777777778,
              "#fb9f3a"
             ],
             [
              0.8888888888888888,
              "#fdca26"
             ],
             [
              1,
              "#f0f921"
             ]
            ],
            "type": "heatmap"
           }
          ],
          "heatmapgl": [
           {
            "colorbar": {
             "outlinewidth": 0,
             "ticks": ""
            },
            "colorscale": [
             [
              0,
              "#0d0887"
             ],
             [
              0.1111111111111111,
              "#46039f"
             ],
             [
              0.2222222222222222,
              "#7201a8"
             ],
             [
              0.3333333333333333,
              "#9c179e"
             ],
             [
              0.4444444444444444,
              "#bd3786"
             ],
             [
              0.5555555555555556,
              "#d8576b"
             ],
             [
              0.6666666666666666,
              "#ed7953"
             ],
             [
              0.7777777777777778,
              "#fb9f3a"
             ],
             [
              0.8888888888888888,
              "#fdca26"
             ],
             [
              1,
              "#f0f921"
             ]
            ],
            "type": "heatmapgl"
           }
          ],
          "histogram": [
           {
            "marker": {
             "pattern": {
              "fillmode": "overlay",
              "size": 10,
              "solidity": 0.2
             }
            },
            "type": "histogram"
           }
          ],
          "histogram2d": [
           {
            "colorbar": {
             "outlinewidth": 0,
             "ticks": ""
            },
            "colorscale": [
             [
              0,
              "#0d0887"
             ],
             [
              0.1111111111111111,
              "#46039f"
             ],
             [
              0.2222222222222222,
              "#7201a8"
             ],
             [
              0.3333333333333333,
              "#9c179e"
             ],
             [
              0.4444444444444444,
              "#bd3786"
             ],
             [
              0.5555555555555556,
              "#d8576b"
             ],
             [
              0.6666666666666666,
              "#ed7953"
             ],
             [
              0.7777777777777778,
              "#fb9f3a"
             ],
             [
              0.8888888888888888,
              "#fdca26"
             ],
             [
              1,
              "#f0f921"
             ]
            ],
            "type": "histogram2d"
           }
          ],
          "histogram2dcontour": [
           {
            "colorbar": {
             "outlinewidth": 0,
             "ticks": ""
            },
            "colorscale": [
             [
              0,
              "#0d0887"
             ],
             [
              0.1111111111111111,
              "#46039f"
             ],
             [
              0.2222222222222222,
              "#7201a8"
             ],
             [
              0.3333333333333333,
              "#9c179e"
             ],
             [
              0.4444444444444444,
              "#bd3786"
             ],
             [
              0.5555555555555556,
              "#d8576b"
             ],
             [
              0.6666666666666666,
              "#ed7953"
             ],
             [
              0.7777777777777778,
              "#fb9f3a"
             ],
             [
              0.8888888888888888,
              "#fdca26"
             ],
             [
              1,
              "#f0f921"
             ]
            ],
            "type": "histogram2dcontour"
           }
          ],
          "mesh3d": [
           {
            "colorbar": {
             "outlinewidth": 0,
             "ticks": ""
            },
            "type": "mesh3d"
           }
          ],
          "parcoords": [
           {
            "line": {
             "colorbar": {
              "outlinewidth": 0,
              "ticks": ""
             }
            },
            "type": "parcoords"
           }
          ],
          "pie": [
           {
            "automargin": true,
            "type": "pie"
           }
          ],
          "scatter": [
           {
            "fillpattern": {
             "fillmode": "overlay",
             "size": 10,
             "solidity": 0.2
            },
            "type": "scatter"
           }
          ],
          "scatter3d": [
           {
            "line": {
             "colorbar": {
              "outlinewidth": 0,
              "ticks": ""
             }
            },
            "marker": {
             "colorbar": {
              "outlinewidth": 0,
              "ticks": ""
             }
            },
            "type": "scatter3d"
           }
          ],
          "scattercarpet": [
           {
            "marker": {
             "colorbar": {
              "outlinewidth": 0,
              "ticks": ""
             }
            },
            "type": "scattercarpet"
           }
          ],
          "scattergeo": [
           {
            "marker": {
             "colorbar": {
              "outlinewidth": 0,
              "ticks": ""
             }
            },
            "type": "scattergeo"
           }
          ],
          "scattergl": [
           {
            "marker": {
             "colorbar": {
              "outlinewidth": 0,
              "ticks": ""
             }
            },
            "type": "scattergl"
           }
          ],
          "scattermapbox": [
           {
            "marker": {
             "colorbar": {
              "outlinewidth": 0,
              "ticks": ""
             }
            },
            "type": "scattermapbox"
           }
          ],
          "scatterpolar": [
           {
            "marker": {
             "colorbar": {
              "outlinewidth": 0,
              "ticks": ""
             }
            },
            "type": "scatterpolar"
           }
          ],
          "scatterpolargl": [
           {
            "marker": {
             "colorbar": {
              "outlinewidth": 0,
              "ticks": ""
             }
            },
            "type": "scatterpolargl"
           }
          ],
          "scatterternary": [
           {
            "marker": {
             "colorbar": {
              "outlinewidth": 0,
              "ticks": ""
             }
            },
            "type": "scatterternary"
           }
          ],
          "surface": [
           {
            "colorbar": {
             "outlinewidth": 0,
             "ticks": ""
            },
            "colorscale": [
             [
              0,
              "#0d0887"
             ],
             [
              0.1111111111111111,
              "#46039f"
             ],
             [
              0.2222222222222222,
              "#7201a8"
             ],
             [
              0.3333333333333333,
              "#9c179e"
             ],
             [
              0.4444444444444444,
              "#bd3786"
             ],
             [
              0.5555555555555556,
              "#d8576b"
             ],
             [
              0.6666666666666666,
              "#ed7953"
             ],
             [
              0.7777777777777778,
              "#fb9f3a"
             ],
             [
              0.8888888888888888,
              "#fdca26"
             ],
             [
              1,
              "#f0f921"
             ]
            ],
            "type": "surface"
           }
          ],
          "table": [
           {
            "cells": {
             "fill": {
              "color": "#EBF0F8"
             },
             "line": {
              "color": "white"
             }
            },
            "header": {
             "fill": {
              "color": "#C8D4E3"
             },
             "line": {
              "color": "white"
             }
            },
            "type": "table"
           }
          ]
         },
         "layout": {
          "annotationdefaults": {
           "arrowcolor": "#2a3f5f",
           "arrowhead": 0,
           "arrowwidth": 1
          },
          "autotypenumbers": "strict",
          "coloraxis": {
           "colorbar": {
            "outlinewidth": 0,
            "ticks": ""
           }
          },
          "colorscale": {
           "diverging": [
            [
             0,
             "#8e0152"
            ],
            [
             0.1,
             "#c51b7d"
            ],
            [
             0.2,
             "#de77ae"
            ],
            [
             0.3,
             "#f1b6da"
            ],
            [
             0.4,
             "#fde0ef"
            ],
            [
             0.5,
             "#f7f7f7"
            ],
            [
             0.6,
             "#e6f5d0"
            ],
            [
             0.7,
             "#b8e186"
            ],
            [
             0.8,
             "#7fbc41"
            ],
            [
             0.9,
             "#4d9221"
            ],
            [
             1,
             "#276419"
            ]
           ],
           "sequential": [
            [
             0,
             "#0d0887"
            ],
            [
             0.1111111111111111,
             "#46039f"
            ],
            [
             0.2222222222222222,
             "#7201a8"
            ],
            [
             0.3333333333333333,
             "#9c179e"
            ],
            [
             0.4444444444444444,
             "#bd3786"
            ],
            [
             0.5555555555555556,
             "#d8576b"
            ],
            [
             0.6666666666666666,
             "#ed7953"
            ],
            [
             0.7777777777777778,
             "#fb9f3a"
            ],
            [
             0.8888888888888888,
             "#fdca26"
            ],
            [
             1,
             "#f0f921"
            ]
           ],
           "sequentialminus": [
            [
             0,
             "#0d0887"
            ],
            [
             0.1111111111111111,
             "#46039f"
            ],
            [
             0.2222222222222222,
             "#7201a8"
            ],
            [
             0.3333333333333333,
             "#9c179e"
            ],
            [
             0.4444444444444444,
             "#bd3786"
            ],
            [
             0.5555555555555556,
             "#d8576b"
            ],
            [
             0.6666666666666666,
             "#ed7953"
            ],
            [
             0.7777777777777778,
             "#fb9f3a"
            ],
            [
             0.8888888888888888,
             "#fdca26"
            ],
            [
             1,
             "#f0f921"
            ]
           ]
          },
          "colorway": [
           "#636efa",
           "#EF553B",
           "#00cc96",
           "#ab63fa",
           "#FFA15A",
           "#19d3f3",
           "#FF6692",
           "#B6E880",
           "#FF97FF",
           "#FECB52"
          ],
          "font": {
           "color": "#2a3f5f"
          },
          "geo": {
           "bgcolor": "white",
           "lakecolor": "white",
           "landcolor": "#E5ECF6",
           "showlakes": true,
           "showland": true,
           "subunitcolor": "white"
          },
          "hoverlabel": {
           "align": "left"
          },
          "hovermode": "closest",
          "mapbox": {
           "style": "light"
          },
          "paper_bgcolor": "white",
          "plot_bgcolor": "#E5ECF6",
          "polar": {
           "angularaxis": {
            "gridcolor": "white",
            "linecolor": "white",
            "ticks": ""
           },
           "bgcolor": "#E5ECF6",
           "radialaxis": {
            "gridcolor": "white",
            "linecolor": "white",
            "ticks": ""
           }
          },
          "scene": {
           "xaxis": {
            "backgroundcolor": "#E5ECF6",
            "gridcolor": "white",
            "gridwidth": 2,
            "linecolor": "white",
            "showbackground": true,
            "ticks": "",
            "zerolinecolor": "white"
           },
           "yaxis": {
            "backgroundcolor": "#E5ECF6",
            "gridcolor": "white",
            "gridwidth": 2,
            "linecolor": "white",
            "showbackground": true,
            "ticks": "",
            "zerolinecolor": "white"
           },
           "zaxis": {
            "backgroundcolor": "#E5ECF6",
            "gridcolor": "white",
            "gridwidth": 2,
            "linecolor": "white",
            "showbackground": true,
            "ticks": "",
            "zerolinecolor": "white"
           }
          },
          "shapedefaults": {
           "line": {
            "color": "#2a3f5f"
           }
          },
          "ternary": {
           "aaxis": {
            "gridcolor": "white",
            "linecolor": "white",
            "ticks": ""
           },
           "baxis": {
            "gridcolor": "white",
            "linecolor": "white",
            "ticks": ""
           },
           "bgcolor": "#E5ECF6",
           "caxis": {
            "gridcolor": "white",
            "linecolor": "white",
            "ticks": ""
           }
          },
          "title": {
           "x": 0.05
          },
          "xaxis": {
           "automargin": true,
           "gridcolor": "white",
           "linecolor": "white",
           "ticks": "",
           "title": {
            "standoff": 15
           },
           "zerolinecolor": "white",
           "zerolinewidth": 2
          },
          "yaxis": {
           "automargin": true,
           "gridcolor": "white",
           "linecolor": "white",
           "ticks": "",
           "title": {
            "standoff": 15
           },
           "zerolinecolor": "white",
           "zerolinewidth": 2
          }
         }
        }
       }
      }
     },
     "metadata": {},
     "output_type": "display_data"
    }
   ],
   "source": [
    "for m in (final_response.data):\n",
    "    (print(m.role,\":\", ), print(m.content[0].text.value))\n",
    "    print()\n",
    "\n",
    "create_map(map_state=map_state, markers_state=markers_state)"
   ]
  },
  {
   "cell_type": "markdown",
   "metadata": {},
   "source": [
    "# Take It to Next Step with these Simple Challenge: \n",
    "1. Extract All assistant functions in a seperate Class. \n",
    "2. Create assistant once in a seperate file names seed_assistant.py. Store assistant_id in an env variable. Now using the above class Use Assistant Id to retrive the assistant.\n",
    "3. Now in this notebook create a function that will take user prompt, add messages to thread, create run, do polling and display the final response like above\n",
    "4. Add Retrival and Code Inteprator to add features just like in dev day demo."
   ]
  }
 ],
 "metadata": {
  "kernelspec": {
   "display_name": "devday_openai_12",
   "language": "python",
   "name": "python3"
  },
  "language_info": {
   "codemirror_mode": {
    "name": "ipython",
    "version": 3
   },
   "file_extension": ".py",
   "mimetype": "text/x-python",
   "name": "python",
   "nbconvert_exporter": "python",
   "pygments_lexer": "ipython3",
   "version": "3.12.0"
  }
 },
 "nbformat": 4,
 "nbformat_minor": 2
}
