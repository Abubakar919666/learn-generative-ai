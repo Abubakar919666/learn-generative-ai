{
 "cells": [
  {
   "cell_type": "markdown",
   "metadata": {},
   "source": [
    "* UIT wifi password uit91258\n",
    "* `conda create -n pyton==3.11.5 -y`\n",
    "* `pip install openai jupyter notebook pandas`"
   ]
  },
  {
   "cell_type": "markdown",
   "metadata": {},
   "source": [
    "# install packages from `requirements.txt`\n",
    "`pip install -r requirements.txt`"
   ]
  },
  {
   "cell_type": "code",
   "execution_count": 1,
   "metadata": {},
   "outputs": [
    {
     "name": "stdout",
     "output_type": "stream",
     "text": [
      "Requirement already satisfied: python-dotenv in /Users/m.qasim/anaconda3/lib/python3.11/site-packages (from -r requirements.txt (line 1)) (1.0.0)\n",
      "Requirement already satisfied: openai in /Users/m.qasim/anaconda3/lib/python3.11/site-packages (from -r requirements.txt (line 2)) (0.27.8)\n",
      "Requirement already satisfied: requests>=2.20 in /Users/m.qasim/anaconda3/lib/python3.11/site-packages (from openai->-r requirements.txt (line 2)) (2.31.0)\n",
      "Requirement already satisfied: tqdm in /Users/m.qasim/anaconda3/lib/python3.11/site-packages (from openai->-r requirements.txt (line 2)) (4.65.0)\n",
      "Requirement already satisfied: aiohttp in /Users/m.qasim/anaconda3/lib/python3.11/site-packages (from openai->-r requirements.txt (line 2)) (3.8.5)\n",
      "Requirement already satisfied: charset-normalizer<4,>=2 in /Users/m.qasim/anaconda3/lib/python3.11/site-packages (from requests>=2.20->openai->-r requirements.txt (line 2)) (3.3.0)\n",
      "Requirement already satisfied: idna<4,>=2.5 in /Users/m.qasim/anaconda3/lib/python3.11/site-packages (from requests>=2.20->openai->-r requirements.txt (line 2)) (3.4)\n",
      "Requirement already satisfied: urllib3<3,>=1.21.1 in /Users/m.qasim/anaconda3/lib/python3.11/site-packages (from requests>=2.20->openai->-r requirements.txt (line 2)) (2.0.5)\n",
      "Requirement already satisfied: certifi>=2017.4.17 in /Users/m.qasim/anaconda3/lib/python3.11/site-packages (from requests>=2.20->openai->-r requirements.txt (line 2)) (2023.7.22)\n",
      "Requirement already satisfied: attrs>=17.3.0 in /Users/m.qasim/anaconda3/lib/python3.11/site-packages (from aiohttp->openai->-r requirements.txt (line 2)) (23.1.0)\n",
      "Requirement already satisfied: multidict<7.0,>=4.5 in /Users/m.qasim/anaconda3/lib/python3.11/site-packages (from aiohttp->openai->-r requirements.txt (line 2)) (6.0.4)\n",
      "Requirement already satisfied: async-timeout<5.0,>=4.0.0a3 in /Users/m.qasim/anaconda3/lib/python3.11/site-packages (from aiohttp->openai->-r requirements.txt (line 2)) (4.0.3)\n",
      "Requirement already satisfied: yarl<2.0,>=1.0 in /Users/m.qasim/anaconda3/lib/python3.11/site-packages (from aiohttp->openai->-r requirements.txt (line 2)) (1.9.2)\n",
      "Requirement already satisfied: frozenlist>=1.1.1 in /Users/m.qasim/anaconda3/lib/python3.11/site-packages (from aiohttp->openai->-r requirements.txt (line 2)) (1.4.0)\n",
      "Requirement already satisfied: aiosignal>=1.1.2 in /Users/m.qasim/anaconda3/lib/python3.11/site-packages (from aiohttp->openai->-r requirements.txt (line 2)) (1.3.1)\n"
     ]
    }
   ],
   "source": [
    "%pip install -r requirements.txt"
   ]
  },
  {
   "cell_type": "code",
   "execution_count": 1,
   "metadata": {},
   "outputs": [
    {
     "name": "stdout",
     "output_type": "stream",
     "text": [
      "Pakistan\n"
     ]
    }
   ],
   "source": [
    "print(\"Pakistan\")"
   ]
  },
  {
   "cell_type": "code",
   "execution_count": 2,
   "metadata": {},
   "outputs": [],
   "source": [
    "from openai import OpenAI\n",
    "\n",
    "from dotenv import load_dotenv, find_dotenv\n",
    "_ : bool = load_dotenv() # read local .env file\n",
    "\n",
    "client : OpenAI = OpenAI()\n"
   ]
  },
  {
   "cell_type": "code",
   "execution_count": 3,
   "metadata": {},
   "outputs": [
    {
     "name": "stdout",
     "output_type": "stream",
     "text": [
      "ChatCompletion(id='chatcmpl-8KT6zBxNXj8Ypbae0hwahZwt1DliF', choices=[Choice(finish_reason='stop', index=0, message=ChatCompletionMessage(content='1+1 equals 2.', role='assistant', function_call=None, tool_calls=None))], created=1699889157, model='gpt-3.5-turbo-1106', object='chat.completion', system_fingerprint='fp_eeff13170a', usage=CompletionUsage(completion_tokens=7, prompt_tokens=14, total_tokens=21))\n"
     ]
    },
    {
     "data": {
      "text/plain": [
       "'1+1 equals 2.'"
      ]
     },
     "execution_count": 3,
     "metadata": {},
     "output_type": "execute_result"
    }
   ],
   "source": [
    "from openai.types.chat.chat_completion import ChatCompletion\n",
    "\n",
    "def chat_completion(prompt : str )-> str:\n",
    " response : ChatCompletion = client.chat.completions.create(\n",
    "        messages=[\n",
    "            {\n",
    "                \"role\": \"user\",\n",
    "                \"content\": prompt,\n",
    "            }\n",
    "        ],\n",
    "        model=\"gpt-3.5-turbo-1106\",\n",
    "    )\n",
    " print(response)\n",
    "#  print(response.choices[0].message.content)\n",
    " return response.choices[0].message.content\n",
    "\n",
    "chat_completion(\"what is 1+1?\")"
   ]
  },
  {
   "cell_type": "markdown",
   "metadata": {},
   "source": [
    "# Making an API request"
   ]
  },
  {
   "cell_type": "code",
   "execution_count": 1,
   "metadata": {},
   "outputs": [
    {
     "name": "stdout",
     "output_type": "stream",
     "text": [
      "test\n"
     ]
    }
   ],
   "source": [
    "print(\"test\")"
   ]
  },
  {
   "cell_type": "code",
   "execution_count": null,
   "metadata": {},
   "outputs": [],
   "source": []
  }
 ],
 "metadata": {
  "kernelspec": {
   "display_name": "py311",
   "language": "python",
   "name": "python3"
  },
  "language_info": {
   "codemirror_mode": {
    "name": "ipython",
    "version": 3
   },
   "file_extension": ".py",
   "mimetype": "text/x-python",
   "name": "python",
   "nbconvert_exporter": "python",
   "pygments_lexer": "ipython3",
   "version": "3.11.4"
  },
  "orig_nbformat": 4
 },
 "nbformat": 4,
 "nbformat_minor": 2
}
