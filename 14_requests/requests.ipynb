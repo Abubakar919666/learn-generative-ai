{
 "cells": [
  {
   "cell_type": "markdown",
   "metadata": {},
   "source": [
    "# HTTP Requests\n",
    "\n",
    "We will use the simple book API to learn to call APIs:\n",
    "\n",
    "https://github.com/vdespa/introduction-to-postman-course/blob/main/simple-books-api.md \n",
    "\n",
    "Requests Documentation:\n",
    "\n",
    "https://requests.readthedocs.io/en/latest/"
   ]
  },
  {
   "cell_type": "code",
   "execution_count": 1,
   "metadata": {},
   "outputs": [],
   "source": [
    "import requests"
   ]
  },
  {
   "cell_type": "markdown",
   "metadata": {},
   "source": [
    "### Get Status"
   ]
  },
  {
   "cell_type": "code",
   "execution_count": 18,
   "metadata": {},
   "outputs": [
    {
     "name": "stdout",
     "output_type": "stream",
     "text": [
      "200\n",
      "{'status': 'OK'}\n",
      "{\"status\":\"OK\"}\n",
      "{'Date': 'Sun, 03 Dec 2023 06:55:44 GMT', 'Content-Type': 'application/json; charset=utf-8', 'Content-Length': '15', 'Connection': 'keep-alive', 'x-powered-by': 'Express', 'etag': 'W/\"f-v/Y1JusChTxrQUzPtNAKycooOTA\"'}\n"
     ]
    }
   ],
   "source": [
    "from requests.models import Response\n",
    "from requests.structures import CaseInsensitiveDict\n",
    "\n",
    "response: Response = requests.get('https://simple-books-api.glitch.me/status')\n",
    "\n",
    "status_code : int = response.status_code\n",
    "print(status_code)\n",
    "\n",
    "json_obj : dict = response.json()\n",
    "print(json_obj)\n",
    "\n",
    "txt: str = response.text\n",
    "print(txt)\n",
    "\n",
    "headers: CaseInsensitiveDict = response.headers\n",
    "print(headers)\n"
   ]
  },
  {
   "cell_type": "markdown",
   "metadata": {},
   "source": [
    "### Get List of Books"
   ]
  },
  {
   "cell_type": "code",
   "execution_count": 24,
   "metadata": {},
   "outputs": [
    {
     "name": "stdout",
     "output_type": "stream",
     "text": [
      "200\n",
      "[{'id': 1, 'name': 'The Russian', 'type': 'fiction', 'available': True}, {'id': 2, 'name': 'Just as I Am', 'type': 'non-fiction', 'available': False}, {'id': 3, 'name': 'The Vanishing Half', 'type': 'fiction', 'available': True}, {'id': 4, 'name': 'The Midnight Library', 'type': 'fiction', 'available': True}, {'id': 5, 'name': 'Untamed', 'type': 'non-fiction', 'available': True}, {'id': 6, 'name': 'Viscount Who Loved Me', 'type': 'fiction', 'available': True}]\n",
      "{'Date': 'Sun, 03 Dec 2023 07:05:27 GMT', 'Content-Type': 'application/json; charset=utf-8', 'Content-Length': '417', 'Connection': 'keep-alive', 'x-powered-by': 'Express', 'etag': 'W/\"1a1-MfqhfTYtZO2sguD1mJq8Vf41WjU\"'}\n"
     ]
    }
   ],
   "source": [
    "\n",
    "response: Response = requests.get('https://simple-books-api.glitch.me/books')\n",
    "\n",
    "status_code : int = response.status_code\n",
    "print(status_code)\n",
    "\n",
    "json_obj : list = response.json()\n",
    "print(json_obj)\n",
    "\n",
    "\n",
    "headers: CaseInsensitiveDict = response.headers\n",
    "print(headers)"
   ]
  },
  {
   "cell_type": "markdown",
   "metadata": {},
   "source": [
    "### Get a Single Book"
   ]
  },
  {
   "cell_type": "code",
   "execution_count": 23,
   "metadata": {},
   "outputs": [
    {
     "name": "stdout",
     "output_type": "stream",
     "text": [
      "200\n",
      "{'id': 1, 'name': 'The Russian', 'author': 'James Patterson and James O. Born', 'isbn': '1780899475', 'type': 'fiction', 'price': 12.98, 'current-stock': 12, 'available': True}\n",
      "{'Date': 'Sun, 03 Dec 2023 07:04:06 GMT', 'Content-Type': 'application/json; charset=utf-8', 'Content-Length': '161', 'Connection': 'keep-alive', 'x-powered-by': 'Express', 'etag': 'W/\"a1-Mcj+H8w3JMJfpTU/R3TvAdr/Z7E\"'}\n"
     ]
    }
   ],
   "source": [
    "response: Response = requests.get('https://simple-books-api.glitch.me/books/1')\n",
    "\n",
    "status_code : int = response.status_code\n",
    "print(status_code)\n",
    "\n",
    "json_obj : dict = response.json()\n",
    "print(json_obj)\n",
    "\n",
    "headers: CaseInsensitiveDict = response.headers\n",
    "print(headers)"
   ]
  },
  {
   "cell_type": "markdown",
   "metadata": {},
   "source": [
    "### API Authentication"
   ]
  },
  {
   "cell_type": "code",
   "execution_count": 32,
   "metadata": {},
   "outputs": [
    {
     "name": "stdout",
     "output_type": "stream",
     "text": [
      "400\n",
      "{\"error\":\"Invalid or missing client name.\"}\n"
     ]
    }
   ],
   "source": [
    "data = {\n",
    "   \"clientName\": \"Postman\",\n",
    "   \"clientEmail\": \"valentin@example.com\"\n",
    "}\n",
    "\n",
    "response1: Response = requests.post('https://simple-books-api.glitch.me/api-clients/', data = data)\n",
    "\n",
    "status_code : int = response1.status_code\n",
    "print(status_code)\n",
    "\n",
    "json_obj : dict = response1.text\n",
    "print(json_obj)\n",
    "\n",
    "# Dont know why we are receiving this error?\n"
   ]
  },
  {
   "cell_type": "markdown",
   "metadata": {},
   "source": [
    "### Submit an order"
   ]
  },
  {
   "cell_type": "code",
   "execution_count": 33,
   "metadata": {},
   "outputs": [
    {
     "name": "stdout",
     "output_type": "stream",
     "text": [
      "401\n",
      "{\"error\":\"Invalid bearer token.\"}\n"
     ]
    }
   ],
   "source": [
    "headers = {'Authorization': 'Bearer <My TOKEN>'}\n",
    "\n",
    "data1 = {\n",
    "  \"bookId\": 1,\n",
    "  \"customerName\": \"John\"\n",
    "}\n",
    "\n",
    "response2: Response = requests.post('https://simple-books-api.glitch.me/orders', headers = headers, data = data1)\n",
    "\n",
    "status_code : int = response2.status_code\n",
    "print(status_code)\n",
    "\n",
    "json_obj : dict = response2.text\n",
    "print(json_obj)\n"
   ]
  }
 ],
 "metadata": {
  "kernelspec": {
   "display_name": "myenv3_12",
   "language": "python",
   "name": "python3"
  },
  "language_info": {
   "codemirror_mode": {
    "name": "ipython",
    "version": 3
   },
   "file_extension": ".py",
   "mimetype": "text/x-python",
   "name": "python",
   "nbconvert_exporter": "python",
   "pygments_lexer": "ipython3",
   "version": "3.12.0"
  }
 },
 "nbformat": 4,
 "nbformat_minor": 2
}
