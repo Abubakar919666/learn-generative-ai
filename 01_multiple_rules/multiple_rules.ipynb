{
 "cells": [
  {
   "cell_type": "markdown",
   "metadata": {},
   "source": [
    "# Making an API request"
   ]
  },
  {
   "cell_type": "code",
   "execution_count": 1,
   "metadata": {},
   "outputs": [],
   "source": [
    "from openai import OpenAI\n",
    "\n",
    "from dotenv import load_dotenv, find_dotenv\n",
    "_ : bool = load_dotenv() # read local .env file\n",
    "\n",
    "client : OpenAI = OpenAI()\n"
   ]
  },
  {
   "cell_type": "code",
   "execution_count": 5,
   "metadata": {},
   "outputs": [
    {
     "name": "stdout",
     "output_type": "stream",
     "text": [
      "In the world of code, a concept wise and deep,\n",
      "Lies a technique that makes our programs leap.\n",
      "Like a dance of logic, gracefully played,\n",
      "Recursion it's called, where wonders are made.\n",
      "\n",
      "At its heart, it harbors a loop within,\n",
      "When a function calls itself, where to begin?\n",
      "Imagine a mirror, reflecting a reflection,\n",
      "As the function's echoes create artistic connection.\n",
      "\n",
      "With each iteration, a journey unfolds,\n",
      "Like a maze of possibilities, where time unfolds.\n",
      "A problem breaks down, step by step revealed,\n",
      "Into smaller chunks, refined and sealed.\n",
      "\n",
      "Just like the seasons, so endlessly repeat,\n",
      "Recursion echoes patterns, so soft and sweet.\n",
      "A base case, a condition, to gracefully cease,\n",
      "Ensures our program finds perfect release.\n",
      "\n",
      "Through the labyrinth of functions, it roams,\n",
      "Exploring data, till it finds its home.\n",
      "A task splits apart, branching with plight,\n",
      "Yet in each step taken, it conquers the night.\n",
      "\n",
      "With elegance it tackles complexity's grip,\n",
      "Bringing order to chaos with each recursive trip.\n",
      "Divide and conquer, a strategy profound,\n",
      "In recursive realms, solutions are found.\n",
      "\n",
      "But beware the void, the infinite loop's snare,\n",
      "Where time stands still, caught in endless despair.\n",
      "For recursion, enchanting as it may be,\n",
      "Needs careful attention, for balance to see.\n",
      "\n",
      "So embrace this concept with creative delight,\n",
      "A poetic dance between logic and might.\n",
      "Recursion invites us to dreamers be made,\n",
      "Where minds are inspired, and knowledge conveyed.\n"
     ]
    }
   ],
   "source": [
    "from openai.types.chat.chat_completion import ChatCompletion\n",
    "\n",
    "def chat_completion()->str:\n",
    "  completion : ChatCompletion = client.chat.completions.create(\n",
    "    model  = \"gpt-3.5-turbo-1106\",\n",
    "    messages=[\n",
    "      {\"role\": \"system\", \"content\": \"You are a poetic assistant, skilled in explaining complex programming concepts with creative flair.\"},\n",
    "      {\"role\": \"user\", \"content\": \"Compose a poem that explains the concept of recursion in programming.\"}\n",
    "    ]\n",
    "  )\n",
    "\n",
    "  return completion.choices[0].message.content\n",
    "\n",
    "print(chat_completion())"
   ]
  },
  {
   "cell_type": "code",
   "execution_count": null,
   "metadata": {},
   "outputs": [],
   "source": []
  }
 ],
 "metadata": {
  "kernelspec": {
   "display_name": "py311",
   "language": "python",
   "name": "python3"
  },
  "language_info": {
   "codemirror_mode": {
    "name": "ipython",
    "version": 3
   },
   "file_extension": ".py",
   "mimetype": "text/x-python",
   "name": "python",
   "nbconvert_exporter": "python",
   "pygments_lexer": "ipython3",
   "version": "3.11.5"
  },
  "orig_nbformat": 4
 },
 "nbformat": 4,
 "nbformat_minor": 2
}
